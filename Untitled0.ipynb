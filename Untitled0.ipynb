{
  "nbformat": 4,
  "nbformat_minor": 0,
  "metadata": {
    "colab": {
      "provenance": [],
      "toc_visible": true,
      "authorship_tag": "ABX9TyPc8Ds5AS1dHxBOVancRbuI",
      "include_colab_link": true
    },
    "kernelspec": {
      "name": "python3",
      "display_name": "Python 3"
    },
    "language_info": {
      "name": "python"
    }
  },
  "cells": [
    {
      "cell_type": "markdown",
      "metadata": {
        "id": "view-in-github",
        "colab_type": "text"
      },
      "source": [
        "<a href=\"https://colab.research.google.com/github/ccmtocarski/python/blob/main/Untitled0.ipynb\" target=\"_parent\"><img src=\"https://colab.research.google.com/assets/colab-badge.svg\" alt=\"Open In Colab\"/></a>"
      ]
    },
    {
      "cell_type": "markdown",
      "source": [
        "aula 3"
      ],
      "metadata": {
        "id": "TMAJI_eaoYrg"
      }
    },
    {
      "cell_type": "code",
      "execution_count": 2,
      "metadata": {
        "colab": {
          "base_uri": "https://localhost:8080/"
        },
        "id": "kXQtabMFnHuJ",
        "outputId": "d32ddec1-e4c7-45be-a368-7655baf3f946"
      },
      "outputs": [
        {
          "name": "stdout",
          "output_type": "stream",
          "text": [
            "Digite o total de figurinhas: 200\n",
            "Digite o número de amigos: 8\n",
            "Digite o total de figurinhas: 20\n",
            "Digite o número de amigos: 4\n",
            "João recebeu 40 figurinhas\n",
            "Digite a quantidade de alunos: 8\n",
            "Digite a quantidade de monitores: 8\n"
          ]
        }
      ],
      "source": [
        "total_de_figurinhas = int(input(\"Digite o total de figurinhas: \"))\n",
        "numero_de_amigos = int(input(\"Digite o número de amigos: \"))\n",
        "figurinhas_amigo = total_de_figurinhas // (numero_de_amigos + 2)\n",
        "total_de_figurinhas = int(input(\"Digite o total de figurinhas: \"))\n",
        "numero_de_amigos = int(input(\"Digite o número de amigos: \"))\n",
        "figurinhas_joao = 2 * figurinhas_amigo\n",
        "\n",
        "print(f\"João recebeu {figurinhas_joao} figurinhas\")\n",
        "numero_de_alunos = int(input(\"Digite a quantidade de alunos: \"))\n",
        "numero_de_monitores = int(input(\"Digite a quantidade de monitores: \"))\n",
        "resposta_positiva = \"pode ir\"\n",
        "resposta_negativa = \"não pode ir\""
      ]
    },
    {
      "cell_type": "markdown",
      "source": [
        "aula 3"
      ],
      "metadata": {
        "id": "1rS4JU-3rE5p"
      }
    },
    {
      "cell_type": "code",
      "source": [
        "numero_de_alunos = int(input(\"Digite a quantidade de alunos: \"))\n",
        "numero_de_monitores = int(input(\"Digite a quantidade de monitores: \"))\n",
        "if numero_de_alunos + numero_de_monitores <= 50:\n",
        "  resposta_positiva = \"pode ir\"\n",
        "resposta_negativa = \"não pode ir\"\n",
        "if numero_de_alunos + numero_de_monitores <= 50:\n",
        "  print(resposta_positiva)\n",
        "else:\n",
        "  print(resposta_negativa)"
      ],
      "metadata": {
        "colab": {
          "base_uri": "https://localhost:8080/"
        },
        "id": "BmlgpBzBsSzF",
        "outputId": "22983bab-335d-4331-b266-29bc979af785"
      },
      "execution_count": 7,
      "outputs": [
        {
          "output_type": "stream",
          "name": "stdout",
          "text": [
            "Digite a quantidade de alunos: 20\n",
            "Digite a quantidade de monitores: 4\n",
            "pode ir\n"
          ]
        }
      ]
    },
    {
      "cell_type": "code",
      "source": [
        "quantidade_professores =8\n",
        "numero_de_alunos = int(input(\"Digite a quantidade de alunos: \"))\n",
        "numero_de_monitores = int(input(\"Digite a quantidade de monitores: \"))\n",
        "if numero_de_alunos + numero_de_monitores <= 50:\n",
        "  resposta_positiva = \"pode ir\"\n",
        "  resposta_negativa = \"não pode ir\"\n",
        "if numero_de_alunos + numero_de_monitores <= 50:\n",
        "  print(resposta_positiva)\n",
        "else:\n",
        "  print(resposta_negativa)"
      ],
      "metadata": {
        "colab": {
          "base_uri": "https://localhost:8080/"
        },
        "id": "5XDkiz5ptlMB",
        "outputId": "d8cf4a97-8302-43c7-eeed-5b377d0eb0fa"
      },
      "execution_count": 8,
      "outputs": [
        {
          "output_type": "stream",
          "name": "stdout",
          "text": [
            "Digite a quantidade de alunos: 15\n",
            "Digite a quantidade de monitores: 8\n",
            "pode ir\n"
          ]
        }
      ]
    },
    {
      "cell_type": "code",
      "source": [],
      "metadata": {
        "id": "eCfnVAy2wScf"
      },
      "execution_count": null,
      "outputs": []
    }
  ]
}